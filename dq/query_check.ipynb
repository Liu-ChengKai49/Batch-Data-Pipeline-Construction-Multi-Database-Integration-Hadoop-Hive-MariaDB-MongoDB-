{
 "cells": [
  {
   "cell_type": "code",
   "execution_count": 2,
   "id": "d8d44110-57cd-4d80-8fda-ae3cec25107a",
   "metadata": {},
   "outputs": [
    {
     "name": "stdout",
     "output_type": "stream",
     "text": [
      "Collecting pyspark\n",
      "  Downloading pyspark-4.0.0.tar.gz (434.1 MB)\n",
      "\u001b[2K     \u001b[90m━━━━━━━━━━━━━━━━━━━━━━━━━━━━━━━━━━━━━━━\u001b[0m \u001b[32m434.1/434.1 MB\u001b[0m \u001b[31m2.1 MB/s\u001b[0m eta \u001b[36m0:00:00\u001b[0m00:01\u001b[0m00:02\u001b[0m\n",
      "\u001b[?25h  Preparing metadata (setup.py) ... \u001b[?25ldone\n",
      "\u001b[?25hCollecting py4j==0.10.9.9 (from pyspark)\n",
      "  Downloading py4j-0.10.9.9-py2.py3-none-any.whl.metadata (1.3 kB)\n",
      "Downloading py4j-0.10.9.9-py2.py3-none-any.whl (203 kB)\n",
      "\u001b[2K   \u001b[90m━━━━━━━━━━━━━━━━━━━━━━━━━━━━━━━━━━━━━━━━\u001b[0m \u001b[32m203.0/203.0 kB\u001b[0m \u001b[31m9.4 MB/s\u001b[0m eta \u001b[36m0:00:00\u001b[0m\n",
      "\u001b[?25hBuilding wheels for collected packages: pyspark\n",
      "  Building wheel for pyspark (setup.py) ... \u001b[?25ldone\n",
      "\u001b[?25h  Created wheel for pyspark: filename=pyspark-4.0.0-py2.py3-none-any.whl size=434741238 sha256=70643c862d3d8fd9a9af655ef42fce23ce12967dd0a582e76a681926c66ea416\n",
      "  Stored in directory: /home/jovyan/.cache/pip/wheels/91/e4/c1/3c917d48563ae77204dd185aa3da90da6a1a5526565296dadf\n",
      "Successfully built pyspark\n",
      "Installing collected packages: py4j, pyspark\n",
      "Successfully installed py4j-0.10.9.9 pyspark-4.0.0\n"
     ]
    }
   ],
   "source": [
    "# !pip install pyspark"
   ]
  },
  {
   "cell_type": "code",
   "execution_count": 1,
   "id": "1f9d4d34-e153-41a8-bc2b-e27e539faa94",
   "metadata": {},
   "outputs": [
    {
     "name": "stdout",
     "output_type": "stream",
     "text": [
      ":: loading settings :: url = jar:file:/opt/conda/lib/python3.11/site-packages/pyspark/jars/ivy-2.5.1.jar!/org/apache/ivy/core/settings/ivysettings.xml\n"
     ]
    },
    {
     "name": "stderr",
     "output_type": "stream",
     "text": [
      "Ivy Default Cache set to: /home/jovyan/.ivy2/cache\n",
      "The jars for the packages stored in: /home/jovyan/.ivy2/jars\n",
      "org.apache.spark#spark-sql-kafka-0-10_2.12 added as a dependency\n",
      "org.apache.hadoop#hadoop-aws added as a dependency\n",
      "com.amazonaws#aws-java-sdk-bundle added as a dependency\n",
      ":: resolving dependencies :: org.apache.spark#spark-submit-parent-05913482-6324-43e9-bf78-fcfc9569d34c;1.0\n",
      "\tconfs: [default]\n",
      "\tfound org.apache.spark#spark-sql-kafka-0-10_2.12;3.5.1 in central\n",
      "\tfound org.apache.spark#spark-token-provider-kafka-0-10_2.12;3.5.1 in central\n",
      "\tfound org.apache.kafka#kafka-clients;3.4.1 in central\n",
      "\tfound org.lz4#lz4-java;1.8.0 in central\n",
      "\tfound org.xerial.snappy#snappy-java;1.1.10.3 in central\n",
      "\tfound org.slf4j#slf4j-api;2.0.7 in central\n",
      "\tfound org.apache.hadoop#hadoop-client-runtime;3.3.4 in central\n",
      "\tfound org.apache.hadoop#hadoop-client-api;3.3.4 in central\n",
      "\tfound commons-logging#commons-logging;1.1.3 in central\n",
      "\tfound com.google.code.findbugs#jsr305;3.0.0 in central\n",
      "\tfound org.apache.commons#commons-pool2;2.11.1 in central\n",
      "\tfound org.apache.hadoop#hadoop-aws;3.3.4 in central\n",
      "\tfound com.amazonaws#aws-java-sdk-bundle;1.12.262 in central\n",
      "\tfound org.wildfly.openssl#wildfly-openssl;1.0.7.Final in central\n",
      "downloading https://repo1.maven.org/maven2/org/apache/spark/spark-sql-kafka-0-10_2.12/3.5.1/spark-sql-kafka-0-10_2.12-3.5.1.jar ...\n",
      "\t[SUCCESSFUL ] org.apache.spark#spark-sql-kafka-0-10_2.12;3.5.1!spark-sql-kafka-0-10_2.12.jar (567ms)\n",
      "downloading https://repo1.maven.org/maven2/org/apache/hadoop/hadoop-aws/3.3.4/hadoop-aws-3.3.4.jar ...\n",
      "\t[SUCCESSFUL ] org.apache.hadoop#hadoop-aws;3.3.4!hadoop-aws.jar (528ms)\n",
      "downloading https://repo1.maven.org/maven2/com/amazonaws/aws-java-sdk-bundle/1.12.262/aws-java-sdk-bundle-1.12.262.jar ...\n",
      "\t[SUCCESSFUL ] com.amazonaws#aws-java-sdk-bundle;1.12.262!aws-java-sdk-bundle.jar (34341ms)\n",
      "downloading https://repo1.maven.org/maven2/org/apache/spark/spark-token-provider-kafka-0-10_2.12/3.5.1/spark-token-provider-kafka-0-10_2.12-3.5.1.jar ...\n",
      "\t[SUCCESSFUL ] org.apache.spark#spark-token-provider-kafka-0-10_2.12;3.5.1!spark-token-provider-kafka-0-10_2.12.jar (336ms)\n",
      "downloading https://repo1.maven.org/maven2/org/apache/kafka/kafka-clients/3.4.1/kafka-clients-3.4.1.jar ...\n",
      "\t[SUCCESSFUL ] org.apache.kafka#kafka-clients;3.4.1!kafka-clients.jar (1161ms)\n",
      "downloading https://repo1.maven.org/maven2/com/google/code/findbugs/jsr305/3.0.0/jsr305-3.0.0.jar ...\n",
      "\t[SUCCESSFUL ] com.google.code.findbugs#jsr305;3.0.0!jsr305.jar (336ms)\n",
      "downloading https://repo1.maven.org/maven2/org/apache/commons/commons-pool2/2.11.1/commons-pool2-2.11.1.jar ...\n",
      "\t[SUCCESSFUL ] org.apache.commons#commons-pool2;2.11.1!commons-pool2.jar (350ms)\n",
      "downloading https://repo1.maven.org/maven2/org/apache/hadoop/hadoop-client-runtime/3.3.4/hadoop-client-runtime-3.3.4.jar ...\n",
      "\t[SUCCESSFUL ] org.apache.hadoop#hadoop-client-runtime;3.3.4!hadoop-client-runtime.jar (4907ms)\n",
      "downloading https://repo1.maven.org/maven2/org/lz4/lz4-java/1.8.0/lz4-java-1.8.0.jar ...\n",
      "\t[SUCCESSFUL ] org.lz4#lz4-java;1.8.0!lz4-java.jar (409ms)\n",
      "downloading https://repo1.maven.org/maven2/org/xerial/snappy/snappy-java/1.1.10.3/snappy-java-1.1.10.3.jar ...\n",
      "\t[SUCCESSFUL ] org.xerial.snappy#snappy-java;1.1.10.3!snappy-java.jar(bundle) (591ms)\n",
      "downloading https://repo1.maven.org/maven2/org/slf4j/slf4j-api/2.0.7/slf4j-api-2.0.7.jar ...\n",
      "\t[SUCCESSFUL ] org.slf4j#slf4j-api;2.0.7!slf4j-api.jar (333ms)\n",
      "downloading https://repo1.maven.org/maven2/org/apache/hadoop/hadoop-client-api/3.3.4/hadoop-client-api-3.3.4.jar ...\n",
      "\t[SUCCESSFUL ] org.apache.hadoop#hadoop-client-api;3.3.4!hadoop-client-api.jar (2943ms)\n",
      "downloading https://repo1.maven.org/maven2/commons-logging/commons-logging/1.1.3/commons-logging-1.1.3.jar ...\n",
      "\t[SUCCESSFUL ] commons-logging#commons-logging;1.1.3!commons-logging.jar (344ms)\n",
      "downloading https://repo1.maven.org/maven2/org/wildfly/openssl/wildfly-openssl/1.0.7.Final/wildfly-openssl-1.0.7.Final.jar ...\n",
      "\t[SUCCESSFUL ] org.wildfly.openssl#wildfly-openssl;1.0.7.Final!wildfly-openssl.jar (-1312ms)\n",
      ":: resolution report :: resolve 18113ms :: artifacts dl 45853ms\n",
      "\t:: modules in use:\n",
      "\tcom.amazonaws#aws-java-sdk-bundle;1.12.262 from central in [default]\n",
      "\tcom.google.code.findbugs#jsr305;3.0.0 from central in [default]\n",
      "\tcommons-logging#commons-logging;1.1.3 from central in [default]\n",
      "\torg.apache.commons#commons-pool2;2.11.1 from central in [default]\n",
      "\torg.apache.hadoop#hadoop-aws;3.3.4 from central in [default]\n",
      "\torg.apache.hadoop#hadoop-client-api;3.3.4 from central in [default]\n",
      "\torg.apache.hadoop#hadoop-client-runtime;3.3.4 from central in [default]\n",
      "\torg.apache.kafka#kafka-clients;3.4.1 from central in [default]\n",
      "\torg.apache.spark#spark-sql-kafka-0-10_2.12;3.5.1 from central in [default]\n",
      "\torg.apache.spark#spark-token-provider-kafka-0-10_2.12;3.5.1 from central in [default]\n",
      "\torg.lz4#lz4-java;1.8.0 from central in [default]\n",
      "\torg.slf4j#slf4j-api;2.0.7 from central in [default]\n",
      "\torg.wildfly.openssl#wildfly-openssl;1.0.7.Final from central in [default]\n",
      "\torg.xerial.snappy#snappy-java;1.1.10.3 from central in [default]\n",
      "\t---------------------------------------------------------------------\n",
      "\t|                  |            modules            ||   artifacts   |\n",
      "\t|       conf       | number| search|dwnlded|evicted|| number|dwnlded|\n",
      "\t---------------------------------------------------------------------\n",
      "\t|      default     |   14  |   14  |   14  |   0   ||   14  |   14  |\n",
      "\t---------------------------------------------------------------------\n",
      ":: retrieving :: org.apache.spark#spark-submit-parent-05913482-6324-43e9-bf78-fcfc9569d34c\n",
      "\tconfs: [default]\n",
      "\t14 artifacts copied, 0 already retrieved (332189kB/959ms)\n",
      "25/08/25 06:54:38 WARN NativeCodeLoader: Unable to load native-hadoop library for your platform... using builtin-java classes where applicable\n",
      "Setting default log level to \"WARN\".\n",
      "To adjust logging level use sc.setLogLevel(newLevel). For SparkR, use setLogLevel(newLevel).\n"
     ]
    },
    {
     "name": "stdout",
     "output_type": "stream",
     "text": [
      "Spark 3.5.1\n"
     ]
    }
   ],
   "source": [
    "import os\n",
    "from pyspark.sql import SparkSession\n",
    "\n",
    "MINIO_ACCESS_KEY = os.getenv(\"MINIO_ROOT_USER\", \"minio\")\n",
    "MINIO_SECRET_KEY = os.getenv(\"MINIO_ROOT_PASSWORD\", \"minio12345678\")\n",
    "\n",
    "spark = (\n",
    "    SparkSession.builder\n",
    "    .appName(\"sensor-dq-notebook\")\n",
    "    .master(\"local[*]\")\n",
    "    .config(\n",
    "        \"spark.jars.packages\",\n",
    "        \",\".join([\n",
    "            \"org.apache.spark:spark-sql-kafka-0-10_2.12:3.5.1\",\n",
    "            \"org.apache.hadoop:hadoop-aws:3.3.4\",\n",
    "            \"com.amazonaws:aws-java-sdk-bundle:1.12.262\",\n",
    "        ])\n",
    "    )\n",
    "    .config(\"spark.hadoop.fs.s3a.impl\", \"org.apache.hadoop.fs.s3a.S3AFileSystem\")\n",
    "    .config(\"spark.hadoop.fs.s3a.endpoint\", \"http://minio:9000\")\n",
    "    .config(\"spark.hadoop.fs.s3a.path.style.access\", \"true\")\n",
    "    .config(\"spark.hadoop.fs.s3a.connection.ssl.enabled\", \"false\")\n",
    "    .config(\"spark.hadoop.fs.s3a.access.key\", MINIO_ACCESS_KEY)\n",
    "    .config(\"spark.hadoop.fs.s3a.secret.key\", MINIO_SECRET_KEY)\n",
    "    .getOrCreate()\n",
    ")\n",
    "print(\"Spark\", spark.version)\n"
   ]
  },
  {
   "cell_type": "code",
   "execution_count": 2,
   "id": "ff2a906a-09e2-4ba2-8ac4-1acce0ae32af",
   "metadata": {},
   "outputs": [
    {
     "name": "stderr",
     "output_type": "stream",
     "text": [
      "25/08/25 06:54:50 WARN MetricsConfig: Cannot locate configuration: tried hadoop-metrics2-s3a-file-system.properties,hadoop-metrics2.properties\n",
      "                                                                                \r"
     ]
    },
    {
     "name": "stdout",
     "output_type": "stream",
     "text": [
      "root\n",
      " |-- device_id: string (nullable = true)\n",
      " |-- n_events: long (nullable = false)\n",
      " |-- avg_temperature_c: double (nullable = true)\n",
      " |-- max_vibration_g: double (nullable = true)\n",
      " |-- window_start: timestamp (nullable = true)\n",
      " |-- window_end: timestamp (nullable = true)\n",
      " |-- date: date (nullable = true)\n",
      " |-- hour: integer (nullable = true)\n",
      "\n"
     ]
    },
    {
     "name": "stderr",
     "output_type": "stream",
     "text": [
      "                                                                                \r"
     ]
    },
    {
     "name": "stdout",
     "output_type": "stream",
     "text": [
      "+---------+--------+-----------------+---------------+-------------------+-------------------+----------+----+\n",
      "|device_id|n_events|avg_temperature_c|max_vibration_g|window_start       |window_end         |date      |hour|\n",
      "+---------+--------+-----------------+---------------+-------------------+-------------------+----------+----+\n",
      "|MTR-67420|37      |75.16081081081083|1.068          |2025-08-24 14:20:00|2025-08-24 14:20:30|2025-08-24|14  |\n",
      "|MTR-60430|42      |74.04738095238096|0.995          |2025-08-24 14:20:00|2025-08-24 14:20:30|2025-08-24|14  |\n",
      "|MTR-33679|39      |76.03358974358976|1.191          |2025-08-24 14:20:00|2025-08-24 14:20:30|2025-08-24|14  |\n",
      "|MTR-69765|31      |76.56483870967742|0.269          |2025-08-24 14:20:00|2025-08-24 14:20:30|2025-08-24|14  |\n",
      "|MTR-36691|47      |76.31978723404255|0.215          |2025-08-24 14:20:00|2025-08-24 14:20:30|2025-08-24|14  |\n",
      "|MTR-25650|46      |75.71978260869567|1.191          |2025-08-24 14:20:00|2025-08-24 14:20:30|2025-08-24|14  |\n",
      "|MTR-52660|47      |74.96170212765956|1.054          |2025-08-24 14:20:00|2025-08-24 14:20:30|2025-08-24|14  |\n",
      "|MTR-27092|38      |74.86973684210527|1.138          |2025-08-24 14:20:00|2025-08-24 14:20:30|2025-08-24|14  |\n",
      "|MTR-59797|38      |75.755           |1.05           |2025-08-24 14:20:00|2025-08-24 14:20:30|2025-08-24|14  |\n",
      "|MTR-27247|46      |77.16130434782609|0.739          |2025-08-24 14:20:00|2025-08-24 14:20:30|2025-08-24|14  |\n",
      "+---------+--------+-----------------+---------------+-------------------+-------------------+----------+----+\n",
      "only showing top 10 rows\n",
      "\n"
     ]
    }
   ],
   "source": [
    "from pyspark.sql import functions as F\n",
    "\n",
    "curated = spark.read.parquet(\"s3a://rt-stream/curated\")\n",
    "curated.printSchema()\n",
    "curated.orderBy(F.col(\"window_start\").desc()) \\\n",
    "       .show(10, truncate=False)\n"
   ]
  },
  {
   "cell_type": "code",
   "execution_count": 3,
   "id": "da742c72-5b76-46bf-9dd6-fbba7448c54d",
   "metadata": {},
   "outputs": [
    {
     "name": "stdout",
     "output_type": "stream",
     "text": [
      "+--------+----------+-------------+--------+-----------+-----------------+----+------------------------+----------+\n",
      "|bad_json|bad_status|bad_vibration|epoch_id|missing_key|out_of_range_temp|rows|ts                      |date      |\n",
      "+--------+----------+-------------+--------+-----------+-----------------+----+------------------------+----------+\n",
      "|0       |303       |0            |10      |0          |0                |3000|2025-08-24T14:24:21.417Z|2025-08-24|\n",
      "|0       |282       |0            |9       |0          |0                |2996|2025-08-24T14:21:56.826Z|2025-08-24|\n",
      "|0       |0         |0            |8       |0          |0                |4   |2025-08-24T14:19:50.242Z|2025-08-24|\n",
      "|0       |305       |0            |7       |0          |0                |2996|2025-08-24T14:06:59.491Z|2025-08-24|\n",
      "|0       |1         |0            |6       |0          |0                |4   |2025-08-24T14:05:00.896Z|2025-08-24|\n",
      "|0       |281       |0            |5       |0          |0                |2997|2025-08-24T08:44:58.455Z|2025-08-24|\n",
      "|0       |1         |0            |4       |0          |0                |3   |2025-08-24T08:43:01.830Z|2025-08-24|\n",
      "|0       |1         |1            |3       |1          |1                |3   |2025-08-24T08:33:38.253Z|2025-08-24|\n",
      "|0       |0         |0            |2       |0          |0                |1   |2025-08-24T08:27:31.690Z|2025-08-24|\n",
      "|0       |1         |1            |1       |1          |1                |3   |2025-08-24T08:22:32.232Z|2025-08-24|\n",
      "|0       |0         |0            |0       |0          |0                |0   |2025-08-24T08:12:13.193Z|2025-08-24|\n",
      "+--------+----------+-------------+--------+-----------+-----------------+----+------------------------+----------+\n",
      "\n"
     ]
    }
   ],
   "source": [
    "from pyspark.sql import functions as F\n",
    "\n",
    "dq = spark.read.json(\"s3a://rt-stream/dq/streaming_summary\")\n",
    "# Prefer to sort by file mod time if no 'ts' column is present:\n",
    "if \"ts\" in dq.columns:\n",
    "    dq.orderBy(F.col(\"ts\").desc()).show(20, False)\n",
    "else:\n",
    "    dq.withColumn(\"_file\", F.input_file_name()) \\\n",
    "      .orderBy(F.col(\"_file\").desc()) \\\n",
    "      .show(20, False)\n"
   ]
  },
  {
   "cell_type": "code",
   "execution_count": 5,
   "id": "133143ba-3b58-4355-802f-f5526deb51aa",
   "metadata": {},
   "outputs": [
    {
     "name": "stdout",
     "output_type": "stream",
     "text": [
      "invalid_temp: 2\n",
      "missing_key: 2\n",
      "+---------+-------------+-----------+------+----+----+------------------------------------------------------------------------------------------------------------------------------------+-----------------------+-------------------+----------+\n",
      "|device_id|temperature_c|vibration_g|status|site|line|raw_json                                                                                                                            |ingest_ts              |event_ts           |date      |\n",
      "+---------+-------------+-----------+------+----+----+------------------------------------------------------------------------------------------------------------------------------------+-----------------------+-------------------+----------+\n",
      "|MTR-002  |999.0        |0.3        |OK    |fab1|L02 |{\"device_id\":\"MTR-002\",\"ts\":\"2025-08-24T00:05:00Z\",\"temperature_c\":999.0,\"vibration_g\":0.3,\"status\":\"OK\",\"site\":\"fab1\",\"line\":\"L02\"}|2025-08-24 08:32:55.411|2025-08-24 00:05:00|2025-08-24|\n",
      "|MTR-002  |999.0        |0.3        |OK    |fab1|L02 |{\"device_id\":\"MTR-002\",\"ts\":\"2025-08-24T00:00:05Z\",\"temperature_c\":999.0,\"vibration_g\":0.3,\"status\":\"OK\",\"site\":\"fab1\",\"line\":\"L02\"}|2025-08-24 08:20:49.162|2025-08-24 00:00:05|2025-08-24|\n",
      "+---------+-------------+-----------+------+----+----+------------------------------------------------------------------------------------------------------------------------------------+-----------------------+-------------------+----------+\n",
      "\n"
     ]
    }
   ],
   "source": [
    "from pyspark.sql import functions as F\n",
    "\n",
    "paths = {\n",
    "    \"invalid_temp\": \"s3a://rt-stream/dq/quarantine/invalid_temp\",\n",
    "    \"missing_key\":  \"s3a://rt-stream/dq/quarantine/missing_key\",\n",
    "}\n",
    "for name, p in paths.items():\n",
    "    try:\n",
    "        n = spark.read.parquet(p).count()\n",
    "        print(f\"{name}: {n}\")\n",
    "    except Exception as e:\n",
    "        print(f\"{name}: (not found yet)\")\n",
    "bad_temp = spark.read.parquet(\"s3a://rt-stream/dq/quarantine/invalid_temp\")\n",
    "bad_temp.orderBy(F.desc(\"_metadata.file_modification_time\")).show(10, False)\n"
   ]
  }
 ],
 "metadata": {
  "kernelspec": {
   "display_name": "Python 3 (ipykernel)",
   "language": "python",
   "name": "python3"
  },
  "language_info": {
   "codemirror_mode": {
    "name": "ipython",
    "version": 3
   },
   "file_extension": ".py",
   "mimetype": "text/x-python",
   "name": "python",
   "nbconvert_exporter": "python",
   "pygments_lexer": "ipython3",
   "version": "3.11.6"
  }
 },
 "nbformat": 4,
 "nbformat_minor": 5
}
