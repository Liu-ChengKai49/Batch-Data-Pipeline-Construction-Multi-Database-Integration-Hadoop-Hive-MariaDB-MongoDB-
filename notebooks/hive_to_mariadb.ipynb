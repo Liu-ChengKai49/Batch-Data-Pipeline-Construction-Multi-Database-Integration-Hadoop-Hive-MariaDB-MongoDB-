{
 "cells": [
  {
   "cell_type": "code",
   "execution_count": 26,
   "id": "74e43f42-9ff5-4279-acfd-995ce632f0e3",
   "metadata": {},
   "outputs": [
    {
     "name": "stdout",
     "output_type": "stream",
     "text": [
      "\u001b[33mWARNING: Skipping sasl as it is not installed.\u001b[0m\u001b[33m\n",
      "\u001b[0mNote: you may need to restart the kernel to use updated packages.\n",
      "Note: you may need to restart the kernel to use updated packages.\n"
     ]
    }
   ],
   "source": [
    "%pip uninstall -y sasl || true\n",
    "%pip install --quiet \"pyhive>=0.7.0\" \"thrift>=0.16,<1\" thrift_sasl pure-sasl pymysql pandas\n"
   ]
  },
  {
   "cell_type": "code",
   "execution_count": 27,
   "id": "eed2a574-64cb-40e2-a683-c7ec3bffc68d",
   "metadata": {},
   "outputs": [
    {
     "name": "stdout",
     "output_type": "stream",
     "text": [
      "   ok\n",
      "0   1\n"
     ]
    },
    {
     "name": "stderr",
     "output_type": "stream",
     "text": [
      "/tmp/ipykernel_108/883255620.py:11: UserWarning: pandas only supports SQLAlchemy connectable (engine/connection) or database string URI or sqlite3 DBAPI2 connection. Other DBAPI2 objects are not tested. Please consider using SQLAlchemy.\n",
      "  print(pd.read_sql(\"SELECT 1 AS ok\", conn))\n"
     ]
    }
   ],
   "source": [
    "from pyhive import hive\n",
    "import pandas as pd\n",
    "\n",
    "conn = hive.Connection(\n",
    "    host=\"hive-server\",\n",
    "    port=10000,\n",
    "    username=\"hive\",\n",
    "    database=\"default\",\n",
    "    auth=\"NONE\",          # uses thrift_sasl + pure-sasl under the hood\n",
    ")\n",
    "print(pd.read_sql(\"SELECT 1 AS ok\", conn))\n",
    "conn.close()\n"
   ]
  },
  {
   "cell_type": "code",
   "execution_count": 29,
   "id": "06f3ba41-5208-408b-a676-4683c3ab577e",
   "metadata": {},
   "outputs": [
    {
     "name": "stdout",
     "output_type": "stream",
     "text": [
      "[OK] Upserted 132 rows into analytics.taxi_monthly_summary\n"
     ]
    }
   ],
   "source": [
    "from pyhive import hive\n",
    "import pymysql\n",
    "from pymysql.constants import CLIENT\n",
    "\n",
    "HIVE = dict(host=\"hive-server\", port=10000, database=\"default\", username=\"hive\", auth=\"NONE\")\n",
    "MYSQL = dict(host=\"mariadb\", port=3306, db=\"analytics\", user=\"etl\", password=\"etlpass\")\n",
    "\n",
    "HIVE_SQL = \"\"\"\n",
    "SELECT\n",
    "  CAST(year AS INT)               AS year,\n",
    "  CAST(month AS INT)              AS month,\n",
    "  COALESCE(passenger_count, -1.0) AS passenger_count,   -- map NULL → -1\n",
    "  AVG(total_amount)               AS avg_total_amount,\n",
    "  COUNT(*)                        AS n_trips\n",
    "FROM yellow_taxi\n",
    "WHERE year='2019'\n",
    "GROUP BY year, month, COALESCE(passenger_count, -1.0)\n",
    "ORDER BY year, month, passenger_count\n",
    "\"\"\"\n",
    "\n",
    "MYSQL_DDL = \"\"\"\n",
    "CREATE TABLE IF NOT EXISTS taxi_monthly_summary (\n",
    "  year INT NOT NULL,\n",
    "  month INT NOT NULL,\n",
    "  passenger_count DECIMAL(10,2),\n",
    "  avg_total_amount DECIMAL(18,4),\n",
    "  n_trips BIGINT,\n",
    "  PRIMARY KEY (year, month, passenger_count)\n",
    ") ENGINE=InnoDB;\n",
    "\"\"\"\n",
    "\n",
    "UPSERT_SQL = \"\"\"\n",
    "INSERT INTO taxi_monthly_summary\n",
    "  (year, month, passenger_count, avg_total_amount, n_trips)\n",
    "VALUES (%s, %s, %s, %s, %s)\n",
    "ON DUPLICATE KEY UPDATE\n",
    "  avg_total_amount = VALUES(avg_total_amount),\n",
    "  n_trips          = VALUES(n_trips);\n",
    "\"\"\"\n",
    "\n",
    "def hive_stream(sql, arraysize=5000):\n",
    "    c = hive.Connection(host=HIVE[\"host\"], port=HIVE[\"port\"],\n",
    "                        username=HIVE[\"username\"], database=HIVE[\"database\"],\n",
    "                        auth=HIVE[\"auth\"])\n",
    "    cur = c.cursor()\n",
    "    cur.execute(sql)\n",
    "    while True:\n",
    "        rows = cur.fetchmany(arraysize)\n",
    "        if not rows: break\n",
    "        for r in rows:\n",
    "            yield r\n",
    "    cur.close(); c.close()\n",
    "\n",
    "m = pymysql.connect(host=MYSQL[\"host\"], port=MYSQL[\"port\"], user=MYSQL[\"user\"],\n",
    "                    password=MYSQL[\"password\"], database=MYSQL[\"db\"],\n",
    "                    autocommit=False, client_flag=CLIENT.MULTI_STATEMENTS)\n",
    "mc = m.cursor()\n",
    "mc.execute(MYSQL_DDL); m.commit()\n",
    "\n",
    "buf, total = [], 0\n",
    "for y,mn,pc,avgv,cnt in hive_stream(HIVE_SQL):\n",
    "    buf.append((int(y), int(mn),\n",
    "                None if pc is None else float(pc),\n",
    "                None if avgv is None else float(avgv),\n",
    "                int(cnt)))\n",
    "    if len(buf) >= 10_000:\n",
    "        mc.executemany(UPSERT_SQL, buf); m.commit(); total += len(buf); buf.clear()\n",
    "\n",
    "if buf:\n",
    "    mc.executemany(UPSERT_SQL, buf); m.commit(); total += len(buf)\n",
    "\n",
    "mc.close(); m.close()\n",
    "print(f\"[OK] Upserted {total} rows into analytics.taxi_monthly_summary\")\n"
   ]
  }
 ],
 "metadata": {
  "kernelspec": {
   "display_name": "Python 3 (ipykernel)",
   "language": "python",
   "name": "python3"
  },
  "language_info": {
   "codemirror_mode": {
    "name": "ipython",
    "version": 3
   },
   "file_extension": ".py",
   "mimetype": "text/x-python",
   "name": "python",
   "nbconvert_exporter": "python",
   "pygments_lexer": "ipython3",
   "version": "3.11.6"
  }
 },
 "nbformat": 4,
 "nbformat_minor": 5
}
