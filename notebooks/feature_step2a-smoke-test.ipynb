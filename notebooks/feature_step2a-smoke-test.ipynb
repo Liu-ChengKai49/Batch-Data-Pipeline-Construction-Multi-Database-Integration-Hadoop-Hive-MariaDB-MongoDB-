{
 "cells": [
  {
   "cell_type": "code",
   "execution_count": 2,
   "id": "fdaad132-2917-49a2-8eb1-ab7202e3f2a3",
   "metadata": {},
   "outputs": [
    {
     "name": "stdout",
     "output_type": "stream",
     "text": [
      "Collecting hdfs\n",
      "  Downloading hdfs-2.7.3.tar.gz (43 kB)\n",
      "\u001b[2K     \u001b[90m━━━━━━━━━━━━━━━━━━━━━━━━━━━━━━━━━━━━━━━\u001b[0m \u001b[32m43.5/43.5 kB\u001b[0m \u001b[31m555.3 kB/s\u001b[0m eta \u001b[36m0:00:00\u001b[0ma \u001b[36m0:00:01\u001b[0m\n",
      "\u001b[?25h  Preparing metadata (setup.py) ... \u001b[?25ldone\n",
      "\u001b[?25hCollecting docopt (from hdfs)\n",
      "  Downloading docopt-0.6.2.tar.gz (25 kB)\n",
      "  Preparing metadata (setup.py) ... \u001b[?25ldone\n",
      "\u001b[?25hRequirement already satisfied: requests>=2.7.0 in /opt/conda/lib/python3.11/site-packages (from hdfs) (2.31.0)\n",
      "Requirement already satisfied: six>=1.9.0 in /opt/conda/lib/python3.11/site-packages (from hdfs) (1.16.0)\n",
      "Requirement already satisfied: charset-normalizer<4,>=2 in /opt/conda/lib/python3.11/site-packages (from requests>=2.7.0->hdfs) (3.3.0)\n",
      "Requirement already satisfied: idna<4,>=2.5 in /opt/conda/lib/python3.11/site-packages (from requests>=2.7.0->hdfs) (3.4)\n",
      "Requirement already satisfied: urllib3<3,>=1.21.1 in /opt/conda/lib/python3.11/site-packages (from requests>=2.7.0->hdfs) (2.0.7)\n",
      "Requirement already satisfied: certifi>=2017.4.17 in /opt/conda/lib/python3.11/site-packages (from requests>=2.7.0->hdfs) (2023.7.22)\n",
      "Building wheels for collected packages: hdfs, docopt\n",
      "  Building wheel for hdfs (setup.py) ... \u001b[?25ldone\n",
      "\u001b[?25h  Created wheel for hdfs: filename=hdfs-2.7.3-py3-none-any.whl size=34325 sha256=8c2e1c842bf2bfe823ff993048e156ef1ec1c7ff4c8f89d65979df332a569ee2\n",
      "  Stored in directory: /home/jovyan/.cache/pip/wheels/b9/1d/dc/eb0833be25464c359903d356c4204721c6a672c26ff164cdc3\n",
      "  Building wheel for docopt (setup.py) ... \u001b[?25ldone\n",
      "\u001b[?25h  Created wheel for docopt: filename=docopt-0.6.2-py2.py3-none-any.whl size=13705 sha256=2dfc9f5b1cc35fe6a788bb329701b01721e6c2039114eead9ea154b55f0ca657\n",
      "  Stored in directory: /home/jovyan/.cache/pip/wheels/1a/b0/8c/4b75c4116c31f83c8f9f047231251e13cc74481cca4a78a9ce\n",
      "Successfully built hdfs docopt\n",
      "Installing collected packages: docopt, hdfs\n",
      "Successfully installed docopt-0.6.2 hdfs-2.7.3\n"
     ]
    }
   ],
   "source": [
    "!pip install hdfs"
   ]
  },
  {
   "cell_type": "code",
   "execution_count": 4,
   "id": "9fd481bb-5794-437b-813e-b754c4e7acc2",
   "metadata": {
    "scrolled": true
   },
   "outputs": [
    {
     "name": "stdout",
     "output_type": "stream",
     "text": [
      "Uploading /home/jovyan/work/data/sensor_data.csv to /data/sensors/sensor_data.csv...\n",
      "Files in /data/sensors: ['sensor_data.csv']\n",
      "\n",
      "--- File Content ---\n",
      "timestamp,sensor_id,temperature,pressure\n",
      "2025-08-09T10:00:00Z,S1,72.4,101.3\n",
      "2025-08-09T10:01:00Z,S1,72.7,101.2\n",
      "2025-08-09T10:02:00Z,S2,68.9,100.9\n",
      "\n",
      "--------------------\n"
     ]
    }
   ],
   "source": [
    "from hdfs import InsecureClient\n",
    "\n",
    "# Connect to NameNode WebHDFS\n",
    "client = InsecureClient('http://namenode:9870', user='root')\n",
    "\n",
    "# HDFS target path\n",
    "hdfs_path = '/data/sensors/sensor_data.csv'\n",
    "\n",
    "# Local path inside the Jupyter container\n",
    "local_path = '/home/jovyan/work/data/sensor_data.csv'\n",
    "\n",
    "# Delete existing file in HDFS if it exists\n",
    "if client.content(hdfs_path, strict=False):\n",
    "    print(f\"Deleting existing file at {hdfs_path}...\")\n",
    "    client.delete(hdfs_path)\n",
    "\n",
    "# Upload from mounted path\n",
    "print(f\"Uploading {local_path} to {hdfs_path}...\")\n",
    "client.upload(hdfs_path, local_path)\n",
    "\n",
    "# Verify files in target HDFS directory\n",
    "print(f\"Files in /data/sensors: {client.list('/data/sensors')}\")\n",
    "\n",
    "# Read back content from HDFS\n",
    "with client.read(hdfs_path) as reader:\n",
    "    print(\"\\n--- File Content ---\")\n",
    "    print(reader.read().decode())\n",
    "    print(\"--------------------\")\n"
   ]
  }
 ],
 "metadata": {
  "kernelspec": {
   "display_name": "Python 3 (ipykernel)",
   "language": "python",
   "name": "python3"
  },
  "language_info": {
   "codemirror_mode": {
    "name": "ipython",
    "version": 3
   },
   "file_extension": ".py",
   "mimetype": "text/x-python",
   "name": "python",
   "nbconvert_exporter": "python",
   "pygments_lexer": "ipython3",
   "version": "3.11.6"
  }
 },
 "nbformat": 4,
 "nbformat_minor": 5
}
