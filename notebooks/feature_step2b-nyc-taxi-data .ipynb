{
 "cells": [
  {
   "cell_type": "code",
   "execution_count": 2,
   "id": "6841976f-f233-4d6a-8f79-859d614cb68a",
   "metadata": {},
   "outputs": [
    {
     "name": "stdout",
     "output_type": "stream",
     "text": [
      "Collecting hdfs\n",
      "  Downloading hdfs-2.7.3.tar.gz (43 kB)\n",
      "\u001b[2K     \u001b[90m━━━━━━━━━━━━━━━━━━━━━━━━━━━━━━━━━━━━━━━━\u001b[0m \u001b[32m43.5/43.5 kB\u001b[0m \u001b[31m12.7 kB/s\u001b[0m eta \u001b[36m0:00:00\u001b[0ma \u001b[36m0:00:01\u001b[0m\n",
      "\u001b[?25h  Preparing metadata (setup.py) ... \u001b[?25ldone\n",
      "\u001b[?25hCollecting docopt (from hdfs)\n",
      "  Downloading docopt-0.6.2.tar.gz (25 kB)\n",
      "  Preparing metadata (setup.py) ... \u001b[?25ldone\n",
      "\u001b[?25hRequirement already satisfied: requests>=2.7.0 in /opt/conda/lib/python3.11/site-packages (from hdfs) (2.31.0)\n",
      "Requirement already satisfied: six>=1.9.0 in /opt/conda/lib/python3.11/site-packages (from hdfs) (1.16.0)\n",
      "Requirement already satisfied: charset-normalizer<4,>=2 in /opt/conda/lib/python3.11/site-packages (from requests>=2.7.0->hdfs) (3.3.0)\n",
      "Requirement already satisfied: idna<4,>=2.5 in /opt/conda/lib/python3.11/site-packages (from requests>=2.7.0->hdfs) (3.4)\n",
      "Requirement already satisfied: urllib3<3,>=1.21.1 in /opt/conda/lib/python3.11/site-packages (from requests>=2.7.0->hdfs) (2.0.7)\n",
      "Requirement already satisfied: certifi>=2017.4.17 in /opt/conda/lib/python3.11/site-packages (from requests>=2.7.0->hdfs) (2023.7.22)\n",
      "Building wheels for collected packages: hdfs, docopt\n",
      "  Building wheel for hdfs (setup.py) ... \u001b[?25ldone\n",
      "\u001b[?25h  Created wheel for hdfs: filename=hdfs-2.7.3-py3-none-any.whl size=34325 sha256=27434c865476485847748b665245e2071666aeeba417f77c00ee8ffefa632314\n",
      "  Stored in directory: /home/jovyan/.cache/pip/wheels/b9/1d/dc/eb0833be25464c359903d356c4204721c6a672c26ff164cdc3\n",
      "  Building wheel for docopt (setup.py) ... \u001b[?25ldone\n",
      "\u001b[?25h  Created wheel for docopt: filename=docopt-0.6.2-py2.py3-none-any.whl size=13705 sha256=e78c4084c71bee788cfc78ce88643d1809105ff3581d61f2e1647d49ccc239f5\n",
      "  Stored in directory: /home/jovyan/.cache/pip/wheels/1a/b0/8c/4b75c4116c31f83c8f9f047231251e13cc74481cca4a78a9ce\n",
      "Successfully built hdfs docopt\n",
      "Installing collected packages: docopt, hdfs\n",
      "Successfully installed docopt-0.6.2 hdfs-2.7.3\n",
      "Collecting pathlib\n",
      "  Downloading pathlib-1.0.1-py3-none-any.whl.metadata (5.1 kB)\n",
      "Downloading pathlib-1.0.1-py3-none-any.whl (14 kB)\n",
      "Installing collected packages: pathlib\n",
      "Successfully installed pathlib-1.0.1\n"
     ]
    }
   ],
   "source": [
    "!pip install hdfs\n",
    "!pip install pathlib"
   ]
  },
  {
   "cell_type": "code",
   "execution_count": 7,
   "id": "0f234bcd-2bab-4e1a-aa8e-0d5e50e6adbc",
   "metadata": {},
   "outputs": [
    {
     "name": "stdout",
     "output_type": "stream",
     "text": [
      "[OK] Uploaded /home/jovyan/work/data/data/nyc-taxi/partitioned/year=2019/month=01/yellow_tripdata_2019-01.parquet -> /data/taxi/year=2019/month=01/yellow_tripdata_2019-01.parquet\n",
      "[OK] Uploaded /home/jovyan/work/data/data/nyc-taxi/partitioned/year=2019/month=02/yellow_tripdata_2019-02.parquet -> /data/taxi/year=2019/month=02/yellow_tripdata_2019-02.parquet\n",
      "[OK] Uploaded /home/jovyan/work/data/data/nyc-taxi/partitioned/year=2019/month=03/yellow_tripdata_2019-03.parquet -> /data/taxi/year=2019/month=03/yellow_tripdata_2019-03.parquet\n",
      "[OK] Uploaded /home/jovyan/work/data/data/nyc-taxi/partitioned/year=2019/month=04/yellow_tripdata_2019-04.parquet -> /data/taxi/year=2019/month=04/yellow_tripdata_2019-04.parquet\n",
      "[OK] Uploaded /home/jovyan/work/data/data/nyc-taxi/partitioned/year=2019/month=05/yellow_tripdata_2019-05.parquet -> /data/taxi/year=2019/month=05/yellow_tripdata_2019-05.parquet\n",
      "[OK] Uploaded /home/jovyan/work/data/data/nyc-taxi/partitioned/year=2019/month=06/yellow_tripdata_2019-06.parquet -> /data/taxi/year=2019/month=06/yellow_tripdata_2019-06.parquet\n",
      "[OK] Uploaded /home/jovyan/work/data/data/nyc-taxi/partitioned/year=2019/month=07/yellow_tripdata_2019-07.parquet -> /data/taxi/year=2019/month=07/yellow_tripdata_2019-07.parquet\n",
      "[OK] Uploaded /home/jovyan/work/data/data/nyc-taxi/partitioned/year=2019/month=08/yellow_tripdata_2019-08.parquet -> /data/taxi/year=2019/month=08/yellow_tripdata_2019-08.parquet\n",
      "[OK] Uploaded /home/jovyan/work/data/data/nyc-taxi/partitioned/year=2019/month=09/yellow_tripdata_2019-09.parquet -> /data/taxi/year=2019/month=09/yellow_tripdata_2019-09.parquet\n",
      "[OK] Uploaded /home/jovyan/work/data/data/nyc-taxi/partitioned/year=2019/month=10/yellow_tripdata_2019-10.parquet -> /data/taxi/year=2019/month=10/yellow_tripdata_2019-10.parquet\n",
      "[OK] Uploaded /home/jovyan/work/data/data/nyc-taxi/partitioned/year=2019/month=11/yellow_tripdata_2019-11.parquet -> /data/taxi/year=2019/month=11/yellow_tripdata_2019-11.parquet\n",
      "[OK] Uploaded /home/jovyan/work/data/data/nyc-taxi/partitioned/year=2019/month=12/yellow_tripdata_2019-12.parquet -> /data/taxi/year=2019/month=12/yellow_tripdata_2019-12.parquet\n"
     ]
    }
   ],
   "source": [
    "from hdfs import InsecureClient\n",
    "from pathlib import Path\n",
    "\n",
    "YEAR = 2019\n",
    "EXT = \"parquet\"\n",
    "# Note the extra 'data/' in the path here\n",
    "LOCAL_ROOT = Path(\"/home/jovyan/work/data/data/nyc-taxi/partitioned\") / f\"year={YEAR}\"\n",
    "HDFS_ROOT = f\"/data/taxi/year={YEAR}\"\n",
    "\n",
    "client = InsecureClient(\"http://namenode:9870\", user=\"root\")\n",
    "\n",
    "for m in [f\"{i:02d}\" for i in range(1, 13)]:\n",
    "    local_file = LOCAL_ROOT / f\"month={m}\" / f\"yellow_tripdata_{YEAR}-{m}.{EXT}\"\n",
    "    if not local_file.exists():\n",
    "        print(f\"[MISS] {local_file}\")\n",
    "        continue\n",
    "    hdfs_dir = f\"{HDFS_ROOT}/month={m}\"\n",
    "    client.makedirs(hdfs_dir)\n",
    "    hdfs_path = f\"{hdfs_dir}/yellow_tripdata_{YEAR}-{m}.{EXT}\"\n",
    "    if client.content(hdfs_path, strict=False):\n",
    "        client.delete(hdfs_path)\n",
    "    client.upload(hdfs_path, str(local_file))\n",
    "    print(f\"[OK] Uploaded {local_file} -> {hdfs_path}\")\n",
    "\n"
   ]
  }
 ],
 "metadata": {
  "kernelspec": {
   "display_name": "Python 3 (ipykernel)",
   "language": "python",
   "name": "python3"
  },
  "language_info": {
   "codemirror_mode": {
    "name": "ipython",
    "version": 3
   },
   "file_extension": ".py",
   "mimetype": "text/x-python",
   "name": "python",
   "nbconvert_exporter": "python",
   "pygments_lexer": "ipython3",
   "version": "3.11.6"
  }
 },
 "nbformat": 4,
 "nbformat_minor": 5
}
